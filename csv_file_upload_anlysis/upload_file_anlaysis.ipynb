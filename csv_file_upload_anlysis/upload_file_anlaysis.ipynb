{
  "nbformat": 4,
  "nbformat_minor": 0,
  "metadata": {
    "colab": {
      "provenance": [],
      "gpuType": "T4"
    },
    "kernelspec": {
      "name": "python3",
      "display_name": "Python 3"
    },
    "language_info": {
      "name": "python"
    },
    "accelerator": "GPU"
  },
  "cells": [
    {
      "cell_type": "code",
      "execution_count": null,
      "metadata": {
        "colab": {
          "base_uri": "https://localhost:8080/"
        },
        "id": "LHHw7q16zLjH",
        "outputId": "480a5d5f-3dbf-4343-bd84-dc2940965e36"
      },
      "outputs": [
        {
          "output_type": "stream",
          "name": "stdout",
          "text": [
            "Collecting streamlit\n",
            "  Downloading streamlit-1.50.0-py3-none-any.whl.metadata (9.5 kB)\n",
            "Requirement already satisfied: altair!=5.4.0,!=5.4.1,<6,>=4.0 in /usr/local/lib/python3.12/dist-packages (from streamlit) (5.5.0)\n",
            "Requirement already satisfied: blinker<2,>=1.5.0 in /usr/local/lib/python3.12/dist-packages (from streamlit) (1.9.0)\n",
            "Requirement already satisfied: cachetools<7,>=4.0 in /usr/local/lib/python3.12/dist-packages (from streamlit) (5.5.2)\n",
            "Requirement already satisfied: click<9,>=7.0 in /usr/local/lib/python3.12/dist-packages (from streamlit) (8.3.0)\n",
            "Requirement already satisfied: numpy<3,>=1.23 in /usr/local/lib/python3.12/dist-packages (from streamlit) (2.0.2)\n",
            "Requirement already satisfied: packaging<26,>=20 in /usr/local/lib/python3.12/dist-packages (from streamlit) (25.0)\n",
            "Requirement already satisfied: pandas<3,>=1.4.0 in /usr/local/lib/python3.12/dist-packages (from streamlit) (2.2.2)\n",
            "Requirement already satisfied: pillow<12,>=7.1.0 in /usr/local/lib/python3.12/dist-packages (from streamlit) (11.3.0)\n",
            "Requirement already satisfied: protobuf<7,>=3.20 in /usr/local/lib/python3.12/dist-packages (from streamlit) (5.29.5)\n",
            "Requirement already satisfied: pyarrow>=7.0 in /usr/local/lib/python3.12/dist-packages (from streamlit) (18.1.0)\n",
            "Requirement already satisfied: requests<3,>=2.27 in /usr/local/lib/python3.12/dist-packages (from streamlit) (2.32.4)\n",
            "Requirement already satisfied: tenacity<10,>=8.1.0 in /usr/local/lib/python3.12/dist-packages (from streamlit) (8.5.0)\n",
            "Requirement already satisfied: toml<2,>=0.10.1 in /usr/local/lib/python3.12/dist-packages (from streamlit) (0.10.2)\n",
            "Requirement already satisfied: typing-extensions<5,>=4.4.0 in /usr/local/lib/python3.12/dist-packages (from streamlit) (4.15.0)\n",
            "Requirement already satisfied: watchdog<7,>=2.1.5 in /usr/local/lib/python3.12/dist-packages (from streamlit) (6.0.0)\n",
            "Requirement already satisfied: gitpython!=3.1.19,<4,>=3.0.7 in /usr/local/lib/python3.12/dist-packages (from streamlit) (3.1.45)\n",
            "Collecting pydeck<1,>=0.8.0b4 (from streamlit)\n",
            "  Downloading pydeck-0.9.1-py2.py3-none-any.whl.metadata (4.1 kB)\n",
            "Requirement already satisfied: tornado!=6.5.0,<7,>=6.0.3 in /usr/local/lib/python3.12/dist-packages (from streamlit) (6.4.2)\n",
            "Requirement already satisfied: jinja2 in /usr/local/lib/python3.12/dist-packages (from altair!=5.4.0,!=5.4.1,<6,>=4.0->streamlit) (3.1.6)\n",
            "Requirement already satisfied: jsonschema>=3.0 in /usr/local/lib/python3.12/dist-packages (from altair!=5.4.0,!=5.4.1,<6,>=4.0->streamlit) (4.25.1)\n",
            "Requirement already satisfied: narwhals>=1.14.2 in /usr/local/lib/python3.12/dist-packages (from altair!=5.4.0,!=5.4.1,<6,>=4.0->streamlit) (2.6.0)\n",
            "Requirement already satisfied: gitdb<5,>=4.0.1 in /usr/local/lib/python3.12/dist-packages (from gitpython!=3.1.19,<4,>=3.0.7->streamlit) (4.0.12)\n",
            "Requirement already satisfied: python-dateutil>=2.8.2 in /usr/local/lib/python3.12/dist-packages (from pandas<3,>=1.4.0->streamlit) (2.9.0.post0)\n",
            "Requirement already satisfied: pytz>=2020.1 in /usr/local/lib/python3.12/dist-packages (from pandas<3,>=1.4.0->streamlit) (2025.2)\n",
            "Requirement already satisfied: tzdata>=2022.7 in /usr/local/lib/python3.12/dist-packages (from pandas<3,>=1.4.0->streamlit) (2025.2)\n",
            "Requirement already satisfied: charset_normalizer<4,>=2 in /usr/local/lib/python3.12/dist-packages (from requests<3,>=2.27->streamlit) (3.4.3)\n",
            "Requirement already satisfied: idna<4,>=2.5 in /usr/local/lib/python3.12/dist-packages (from requests<3,>=2.27->streamlit) (3.10)\n",
            "Requirement already satisfied: urllib3<3,>=1.21.1 in /usr/local/lib/python3.12/dist-packages (from requests<3,>=2.27->streamlit) (2.5.0)\n",
            "Requirement already satisfied: certifi>=2017.4.17 in /usr/local/lib/python3.12/dist-packages (from requests<3,>=2.27->streamlit) (2025.8.3)\n",
            "Requirement already satisfied: smmap<6,>=3.0.1 in /usr/local/lib/python3.12/dist-packages (from gitdb<5,>=4.0.1->gitpython!=3.1.19,<4,>=3.0.7->streamlit) (5.0.2)\n",
            "Requirement already satisfied: MarkupSafe>=2.0 in /usr/local/lib/python3.12/dist-packages (from jinja2->altair!=5.4.0,!=5.4.1,<6,>=4.0->streamlit) (3.0.3)\n",
            "Requirement already satisfied: attrs>=22.2.0 in /usr/local/lib/python3.12/dist-packages (from jsonschema>=3.0->altair!=5.4.0,!=5.4.1,<6,>=4.0->streamlit) (25.3.0)\n",
            "Requirement already satisfied: jsonschema-specifications>=2023.03.6 in /usr/local/lib/python3.12/dist-packages (from jsonschema>=3.0->altair!=5.4.0,!=5.4.1,<6,>=4.0->streamlit) (2025.9.1)\n",
            "Requirement already satisfied: referencing>=0.28.4 in /usr/local/lib/python3.12/dist-packages (from jsonschema>=3.0->altair!=5.4.0,!=5.4.1,<6,>=4.0->streamlit) (0.36.2)\n",
            "Requirement already satisfied: rpds-py>=0.7.1 in /usr/local/lib/python3.12/dist-packages (from jsonschema>=3.0->altair!=5.4.0,!=5.4.1,<6,>=4.0->streamlit) (0.27.1)\n",
            "Requirement already satisfied: six>=1.5 in /usr/local/lib/python3.12/dist-packages (from python-dateutil>=2.8.2->pandas<3,>=1.4.0->streamlit) (1.17.0)\n",
            "Downloading streamlit-1.50.0-py3-none-any.whl (10.1 MB)\n",
            "\u001b[2K   \u001b[90m━━━━━━━━━━━━━━━━━━━━━━━━━━━━━━━━━━━━━━━━\u001b[0m \u001b[32m10.1/10.1 MB\u001b[0m \u001b[31m51.7 MB/s\u001b[0m eta \u001b[36m0:00:00\u001b[0m\n",
            "\u001b[?25hDownloading pydeck-0.9.1-py2.py3-none-any.whl (6.9 MB)\n",
            "\u001b[2K   \u001b[90m━━━━━━━━━━━━━━━━━━━━━━━━━━━━━━━━━━━━━━━━\u001b[0m \u001b[32m6.9/6.9 MB\u001b[0m \u001b[31m52.5 MB/s\u001b[0m eta \u001b[36m0:00:00\u001b[0m\n",
            "\u001b[?25hInstalling collected packages: pydeck, streamlit\n",
            "Successfully installed pydeck-0.9.1 streamlit-1.50.0\n"
          ]
        }
      ],
      "source": [
        "!pip install streamlit --break-system-packages"
      ]
    },
    {
      "cell_type": "code",
      "source": [
        "!pip install -U plotly\n"
      ],
      "metadata": {
        "colab": {
          "base_uri": "https://localhost:8080/"
        },
        "id": "VeNHpMQ7GEJq",
        "outputId": "930ba6b1-e33c-47e6-ee12-e9aa9f956c9f"
      },
      "execution_count": null,
      "outputs": [
        {
          "output_type": "stream",
          "name": "stdout",
          "text": [
            "Requirement already satisfied: plotly in /usr/local/lib/python3.12/dist-packages (5.24.1)\n",
            "Collecting plotly\n",
            "  Downloading plotly-6.3.1-py3-none-any.whl.metadata (8.5 kB)\n",
            "Requirement already satisfied: narwhals>=1.15.1 in /usr/local/lib/python3.12/dist-packages (from plotly) (2.6.0)\n",
            "Requirement already satisfied: packaging in /usr/local/lib/python3.12/dist-packages (from plotly) (25.0)\n",
            "Downloading plotly-6.3.1-py3-none-any.whl (9.8 MB)\n",
            "\u001b[2K   \u001b[90m━━━━━━━━━━━━━━━━━━━━━━━━━━━━━━━━━━━━━━━━\u001b[0m \u001b[32m9.8/9.8 MB\u001b[0m \u001b[31m32.6 MB/s\u001b[0m eta \u001b[36m0:00:00\u001b[0m\n",
            "\u001b[?25hInstalling collected packages: plotly\n",
            "  Attempting uninstall: plotly\n",
            "    Found existing installation: plotly 5.24.1\n",
            "    Uninstalling plotly-5.24.1:\n",
            "      Successfully uninstalled plotly-5.24.1\n",
            "Successfully installed plotly-6.3.1\n"
          ]
        }
      ]
    },
    {
      "cell_type": "code",
      "source": [
        "pip install --ignore-installed blinker\n"
      ],
      "metadata": {
        "colab": {
          "base_uri": "https://localhost:8080/"
        },
        "id": "ZW6fMOy40huM",
        "outputId": "243898a4-7584-4028-b096-6772147f41a3"
      },
      "execution_count": null,
      "outputs": [
        {
          "output_type": "stream",
          "name": "stdout",
          "text": [
            "Collecting blinker\n",
            "  Downloading blinker-1.9.0-py3-none-any.whl.metadata (1.6 kB)\n",
            "Downloading blinker-1.9.0-py3-none-any.whl (8.5 kB)\n",
            "Installing collected packages: blinker\n",
            "Successfully installed blinker-1.9.0\n"
          ]
        }
      ]
    },
    {
      "cell_type": "code",
      "source": [
        "import pandas as pd\n",
        "import streamlit as st\n",
        "import matplotlib.pyplot as plt"
      ],
      "metadata": {
        "id": "btZGPyCTzh7l"
      },
      "execution_count": null,
      "outputs": []
    },
    {
      "cell_type": "code",
      "source": [
        "%%writefile app.py\n",
        "import streamlit as st\n",
        "import pandas as pd\n",
        "import numpy as np\n",
        "import plotly.express as px\n",
        "\n",
        "st.title(\" Data Visualization \")\n",
        "\n",
        "# 1) رفع الملف\n",
        "file = st.file_uploader(\"ارفع ملف CSV\", type=[\"csv\"], key=\"up\")\n",
        "if not file:\n",
        "    st.info(\"ارفع ملف من نوع csv\")\n",
        "    st.stop()\n",
        "\n",
        "\n",
        "# 2) قراءة ومعاينة سريعة\n",
        "df = pd.read_csv(file)\n",
        "#st.dataframe(df.head(100), use_container_width=True)\n",
        "#choose the number of row\n",
        "n_row=st.slider(\"اختار عدد الصفوف لعرضها\",min_value=5,max_value=len(df))\n",
        "n_col=st.multiselect(\"اختار الأعمدة\",df.columns.tolist())\n",
        "st.write(df.head(n_row)[n_col])\n",
        "st.write(\" عدد الصفوف والاعمدة\",df.shape)\n",
        "# 3) تجهيز قوائم الأعمدة\n",
        "num_cols = df.select_dtypes(include=np.number).columns.tolist()\n",
        "cat_cols = [c for c in df.columns if c not in num_cols]\n",
        "\n",
        "# 4) اختيار نوع الرسم (واحد فقط لتبسيط الكود)\n",
        "plot = st.selectbox(\"اختر نوع الرسم\", [\"Histogram\", \"Scatter\", \"Bar count\", \"Box\",\"Pie\",\"Heatmap\"], key=\"plot\")\n",
        "\n",
        "# === Histogram ===\n",
        "if plot == \"Histogram\":\n",
        "    if not num_cols:\n",
        "        st.warning(\"لا توجد أعمدة رقمية.\")\n",
        "    else:\n",
        "        col = st.selectbox(\"العمود الرقمي\", num_cols, key=\"his_col\")\n",
        "        bins = st.slider(\"عدد الصناديق\", 5, 80, 30, key=\"his_bins\")\n",
        "        fig = px.histogram(df, x=col, nbins=bins, template=\"plotly_white\")\n",
        "        st.plotly_chart(fig, use_container_width=True)\n",
        "\n",
        "# === Scatter ===\n",
        "elif plot == \"Scatter\":\n",
        "    if len(num_cols) < 2:\n",
        "        st.warning(\"نحتاج عمودين رقميين على الأقل.\")\n",
        "    else:\n",
        "        x = st.selectbox(\"المحور X\", num_cols, key=\"sc_x\")\n",
        "        y = st.selectbox(\"المحور Y\", [c for c in num_cols if c != x], key=\"sc_y\")\n",
        "        color = st.selectbox(\"لون (اختياري)\", [\"بدون\"] + df.columns.tolist(), key=\"sc_color\")\n",
        "        color = None if color == \"بدون\" else color\n",
        "        fig = px.scatter(df, x=x, y=y, color=color, opacity=0.7, template=\"plotly_white\")\n",
        "        st.plotly_chart(fig, use_container_width=True)\n",
        "\n",
        "# === Bar count ===\n",
        "elif plot == \"Bar count\":\n",
        "    if not cat_cols:\n",
        "        st.warning(\"لا توجد أعمدة فئوية مناسبة.\")\n",
        "    else:\n",
        "        c = st.selectbox(\"عمود فئوي\", cat_cols, key=\"bar_cat\")\n",
        "        counts = df[c].value_counts(dropna=False).reset_index()\n",
        "        counts.columns = [c, \"count\"]\n",
        "        fig = px.bar(counts, x=c, y=\"count\", text_auto=True, template=\"plotly_white\")\n",
        "        fig.update_xaxes(type=\"category\")\n",
        "        st.plotly_chart(fig, use_container_width=True)\n",
        "\n",
        "# === Box ===\n",
        "elif plot == \"Box\":\n",
        "    if not num_cols:\n",
        "        st.warning(\"لا توجد أعمدة رقمية.\")\n",
        "    else:\n",
        "        y = st.selectbox(\"العمود الرقمي\", num_cols, key=\"box_y\")\n",
        "        x = st.selectbox(\"تجميع حسب (اختياري)\", [\"بدون\"] + cat_cols, key=\"box_x\")\n",
        "        x = None if x == \"بدون\" else x\n",
        "        fig = px.box(df, x=x, y=y, template=\"plotly_white\", points=\"outliers\")\n",
        "        st.plotly_chart(fig, use_container_width=True)\n",
        "# === Pie (counts) ===\n",
        "elif plot == \"Pie\":\n",
        "    # لو ما في أعمدة فئوية، نسمح بأي عمود ونعدّه فئوي\n",
        "    choices = cat_cols if cat_cols else df.columns.tolist()\n",
        "    c = st.selectbox(\"عمود فئوي\", choices, key=\"pie_cat\")\n",
        "    topn = st.slider(\"أعلى  فئات\", 3, 30, 8, key=\"pie_topn\")\n",
        "    hole = st.slider(\"حجم  (Donut)\", 0.0, 0.6, 0.25, 0.05, key=\"pie_hole\")\n",
        "    counts = df[c].value_counts(dropna=False).reset_index()\n",
        "    counts.columns = [c, \"count\"]\n",
        "    fig = px.pie(counts.head(topn), values=\"count\", names=c, hole=hole, template=\"plotly_white\")\n",
        "    st.plotly_chart(fig, use_container_width=True)\n",
        "\n",
        "# --- Heatmap ---\n",
        "elif plot==\"Heatmap\":\n",
        "    st.write(\"خريطة حرارية لمعاملات الارتباط بين الأعمدة الرقمية\")\n",
        "    num_cols = df.select_dtypes(include=np.number).columns.tolist()\n",
        "    if len(num_cols) < 2:\n",
        "        st.warning(\"لا توجد أعمدة رقمية كافية لرسم Heatmap (مطلوب عمودان رقميان على الأقل).\")\n",
        "    else:\n",
        "        sel = st.multiselect(\"اختر الأعمدة الرقمية\", num_cols, default=num_cols, key=\"hm_cols\")\n",
        "        method = st.selectbox(\"طريقة الارتباط\", [\"pearson\", \"spearman\", \"kendall\"], key=\"hm_method\")\n",
        "\n",
        "        if len(sel) >= 2:\n",
        "            corr = df[sel].corr(method=method).round(2)\n",
        "            fig = px.imshow(\n",
        "                corr, text_auto=True, aspect=\"auto\",\n",
        "                color_continuous_scale=\"RdBu_r\",\n",
        "                origin=\"lower\", template=\"plotly_white\", height=500\n",
        "            )\n",
        "            st.plotly_chart(fig, use_container_width=True)\n",
        "        else:\n",
        "            st.info(\"اختر عمودين رقميين على الأقل لعرض الخريطة الحرارية.\")\n",
        "\n"
      ],
      "metadata": {
        "colab": {
          "base_uri": "https://localhost:8080/"
        },
        "id": "I91KxPo4Zqj0",
        "outputId": "7b808eb5-300c-4d49-c696-11b4343dc123"
      },
      "execution_count": null,
      "outputs": [
        {
          "output_type": "stream",
          "name": "stdout",
          "text": [
            "Overwriting app.py\n"
          ]
        }
      ]
    },
    {
      "cell_type": "code",
      "source": [
        "!pip install -q streamlit pyngrok\n"
      ],
      "metadata": {
        "id": "TKaLXmWs1Fc0"
      },
      "execution_count": null,
      "outputs": []
    },
    {
      "cell_type": "code",
      "source": [
        "from pyngrok import ngrok\n",
        "import subprocess, time, os, signal\n",
        "\n",
        "# (اختياري) أوقف أي تشغيل سابق\n",
        "try:\n",
        "    # kill streamlit on 8501 if running\n",
        "    import psutil, socket\n",
        "except:\n",
        "    !pip install -q psutil\n",
        "import psutil\n",
        "\n",
        "for p in psutil.process_iter(attrs=[\"pid\",\"name\",\"cmdline\"]):\n",
        "    try:\n",
        "        if p.info[\"cmdline\"] and \"streamlit\" in \" \".join(p.info[\"cmdline\"]):\n",
        "            p.kill()\n",
        "    except Exception:\n",
        "        pass\n",
        "\n",
        "# ضَعْ التوكن الصحيح هنا فقط (قيمته من لوحة ngrok)\n",
        "NGROK_TOKEN = \"33YyvvMZI7XkokUepoxECAltdgv_3FFpr2Zay1vzw5uCxSD4T\"\n",
        "ngrok.set_auth_token(NGROK_TOKEN)\n",
        "\n",
        "# شغّل ستريملِت\n",
        "proc = subprocess.Popen([\"streamlit\", \"run\", \"app.py\", \"--server.port\", \"8501\"])\n",
        "\n",
        "# افتح نفق ngrok\n",
        "tunnel = ngrok.connect(8501)\n",
        "print(\"🔗 افتح التطبيق هنا:\", tunnel.public_url)\n"
      ],
      "metadata": {
        "colab": {
          "base_uri": "https://localhost:8080/"
        },
        "id": "wP1VA2_P3XQG",
        "outputId": "91b8fa40-73b4-4061-c0e4-e4e2144c7bac"
      },
      "execution_count": null,
      "outputs": [
        {
          "output_type": "stream",
          "name": "stdout",
          "text": [
            "🔗 افتح التطبيق هنا: https://untrustworthy-splurgy-cannon.ngrok-free.dev\n"
          ]
        }
      ]
    }
  ]
}