{
  "nbformat": 4,
  "nbformat_minor": 0,
  "metadata": {
    "colab": {
      "provenance": [],
      "toc_visible": true
    },
    "kernelspec": {
      "name": "python3",
      "display_name": "Python 3"
    },
    "language_info": {
      "name": "python"
    },
    "accelerator": "TPU"
  },
  "cells": [
    {
      "cell_type": "markdown",
      "source": [
        "## Task: Train an EMNIST classifier\n",
        "\n",
        "EMNIST (or extended MNIST) is just like MNIST, a bunch of handwritten images, except instead of just digits (0-9) it also has uppercase and lowercase characters.\n",
        "\n",
        "You are provided with the code to load the EMNIST train and split **datasets**\n",
        "\n",
        "Write and train a classifier for EMNIST. Make sure to\n",
        "\n",
        "- Show how your loss(es) dropped during training.\n",
        "- Show final performance of your model on untrained data.\n",
        "- Maintain good code quality."
      ],
      "metadata": {
        "id": "zemWtDr8gVOf"
      }
    },
    {
      "cell_type": "code",
      "source": [
        "import torch\n",
        "import torch.nn as nn\n",
        "import torch.optim as optim\n",
        "\n",
        "import matplotlib.pyplot as plt\n",
        "import numpy as np\n",
        "\n",
        "import torchvision\n",
        "from torchvision.datasets import EMNIST\n",
        "import torchvision.transforms.functional as F\n",
        "import torch.nn.functional as F\n",
        "from torchvision import transforms\n",
        "from torch.utils.data import DataLoader, Subset"
      ],
      "metadata": {
        "id": "4GQMlmw2hwbn"
      },
      "execution_count": null,
      "outputs": []
    },
    {
      "cell_type": "code",
      "source": [
        "train_data = EMNIST(root='emnist_data/', split='byclass', download=True)\n",
        "test_data = EMNIST(root='emnist_data/', split='byclass', download=True, train=False)"
      ],
      "metadata": {
        "id": "InCfHKZme7ga"
      },
      "execution_count": null,
      "outputs": []
    },
    {
      "cell_type": "code",
      "source": [
        "# This cell is for demo purposes. feel free to remove it if you want.\n",
        "print('Number of classes in dataset:', len(train_data.classes))\n",
        "print('Unique labels:', train_data.classes)\n",
        "\n",
        "demo_img, demo_label = train_data[10]\n",
        "\n",
        "print(demo_label)\n",
        "torchvision.transforms.functional.resize(demo_img, (255, 255))"
      ],
      "metadata": {
        "colab": {
          "base_uri": "https://localhost:8080/",
          "height": 344
        },
        "id": "udb4rY5Vhaau",
        "outputId": "a28c64eb-7d89-41cf-9849-4258a0e90ca0"
      },
      "execution_count": null,
      "outputs": [
        {
          "output_type": "stream",
          "name": "stdout",
          "text": [
            "Number of classes in dataset: 62\n",
            "Unique labels: ['0', '1', '2', '3', '4', '5', '6', '7', '8', '9', 'A', 'B', 'C', 'D', 'E', 'F', 'G', 'H', 'I', 'J', 'K', 'L', 'M', 'N', 'O', 'P', 'Q', 'R', 'S', 'T', 'U', 'V', 'W', 'X', 'Y', 'Z', 'a', 'b', 'c', 'd', 'e', 'f', 'g', 'h', 'i', 'j', 'k', 'l', 'm', 'n', 'o', 'p', 'q', 'r', 's', 't', 'u', 'v', 'w', 'x', 'y', 'z']\n",
            "7\n"
          ]
        },
        {
          "output_type": "execute_result",
          "data": {
            "text/plain": [
              "<PIL.Image.Image image mode=L size=255x255>"
            ],
            "image/png": "[encoded data removed]"
          },
          "metadata": {},
          "execution_count": 3
        }
      ]
    },
    {
      "cell_type": "code",
      "source": [
        "# Transformations for the EMNIST dataset\n",
        "transform = transforms.Compose([\n",
        "    transforms.ToTensor(),\n",
        "])\n",
        "\n",
        "# Load the datasets\n",
        "train_data = EMNIST(root='emnist_data/', split='byclass', train=True, download=True, transform=transform)\n",
        "test_data = EMNIST(root='emnist_data/', split='byclass', train=False, download=True, transform=transform)\n",
        "\n",
        "# Define the size of the subset as a fraction of the original dataset\n",
        "subset_fraction = 0.1 ## You can play with this to get a bigger or smaller subset\n",
        "\n",
        "# Create indices for the training subset\n",
        "train_indices = np.random.choice(len(train_data), int(len(train_data) * subset_fraction), replace=False)\n",
        "\n",
        "# Create the training subset\n",
        "train_subset = Subset(train_data, train_indices)\n",
        "\n",
        "# For the test set, you can do the same or use the full test set\n",
        "test_indices = np.random.choice(len(test_data), int(len(test_data) * subset_fraction), replace=False)\n",
        "test_subset = Subset(test_data, test_indices)\n",
        "\n",
        "# Check the size of the subset\n",
        "print(f\"Training subset size: {len(train_subset)}\")\n",
        "print(f\"Test subset size: {len(test_subset)}\")\n",
        "\n",
        "# Define the DataLoaders\n",
        "train_loader = DataLoader(train_subset, batch_size=32, shuffle=True)\n",
        "test_loader = DataLoader(test_subset, batch_size=32, shuffle=False)"
      ],
      "metadata": {
        "id": "Ia6MAyxqhiAi",
        "colab": {
          "base_uri": "https://localhost:8080/"
        },
        "outputId": "02471c1a-6c2e-417e-c637-28ad39caa2c4"
      },
      "execution_count": null,
      "outputs": [
        {
          "output_type": "stream",
          "name": "stdout",
          "text": [
            "Training subset size: 69793\n",
            "Test subset size: 11632\n"
          ]
        }
      ]
    },
    {
      "cell_type": "code",
      "source": [
        "next(iter(train_loader))[0][0].shape #check the size of image"
      ],
      "metadata": {
        "colab": {
          "base_uri": "https://localhost:8080/"
        },
        "id": "LEeHHBDNW5nu",
        "outputId": "44303771-d2fc-44b9-d029-6f3e8dc6adb9"
      },
      "execution_count": 19,
      "outputs": [
        {
          "output_type": "execute_result",
          "data": {
            "text/plain": [
              "torch.Size([1, 28, 28])"
            ]
          },
          "metadata": {},
          "execution_count": 19
        }
      ]
    },
    {
      "cell_type": "code",
      "source": [
        "class Net(nn.Module):\n",
        "    def __init__(self):\n",
        "        super().__init__()\n",
        "        self.fc1 = nn.Linear(28*28, 512) #input layer and hidden layer\n",
        "        self.fc2 = nn.Linear(512, 256)# from the prvousr layer that become input the next leyer and complate\n",
        "        self.fc3 = nn.Linear(256, 128)\n",
        "        self.fc4 = nn.Linear(128, 62)# num classes\n",
        "\n",
        "    def forward(self, x):\n",
        "        x = F.relu(self.fc1(x))\n",
        "        x = F.relu(self.fc2(x))\n",
        "        x = F.relu(self.fc3(x))\n",
        "        x = self.fc4(x)\n",
        "        return F.log_softmax(x, dim=1)\n",
        "\n",
        "net = Net()\n",
        "print(net)"
      ],
      "metadata": {
        "colab": {
          "base_uri": "https://localhost:8080/"
        },
        "id": "9O-CHqJgVE2Y",
        "outputId": "ec5ca317-616d-4578-9784-085a9a45b00d"
      },
      "execution_count": 21,
      "outputs": [
        {
          "output_type": "stream",
          "name": "stdout",
          "text": [
            "Net(\n",
            "  (fc1): Linear(in_features=784, out_features=512, bias=True)\n",
            "  (fc2): Linear(in_features=512, out_features=256, bias=True)\n",
            "  (fc3): Linear(in_features=256, out_features=128, bias=True)\n",
            "  (fc4): Linear(in_features=128, out_features=62, bias=True)\n",
            ")\n"
          ]
        }
      ]
    },
    {
      "cell_type": "code",
      "source": [
        "X=torch.rand((28*28))\n",
        "X=X.view(-1,28*28)"
      ],
      "metadata": {
        "id": "8X2nu9IJ3Qws"
      },
      "execution_count": 27,
      "outputs": []
    },
    {
      "cell_type": "code",
      "source": [
        "output=net(X)"
      ],
      "metadata": {
        "id": "pj2jMYTM3tb_"
      },
      "execution_count": 28,
      "outputs": []
    },
    {
      "cell_type": "code",
      "source": [
        "output # store NN with tensor in  output"
      ],
      "metadata": {
        "colab": {
          "base_uri": "https://localhost:8080/"
        },
        "id": "-HwIcu8I3xan",
        "outputId": "2d73303e-2d5b-4c50-ec45-9d774e6ebc09"
      },
      "execution_count": 29,
      "outputs": [
        {
          "output_type": "execute_result",
          "data": {
            "text/plain": [
              "tensor([[-4.0332e+01, -5.0587e+01, -4.0996e+01, -5.8549e+01, -6.6523e+01,\n",
              "         -6.2153e+01, -3.4664e+01, -7.3829e+01, -3.2606e+01, -9.5325e+01,\n",
              "         -5.3719e+01, -1.6604e-04, -6.3468e+01, -8.7034e+00, -4.7629e+01,\n",
              "         -6.3724e+01, -3.1538e+01, -6.6897e+01, -3.7211e+01, -5.9643e+01,\n",
              "         -6.2197e+01, -5.1452e+01, -4.6116e+01, -4.7959e+01, -3.2418e+01,\n",
              "         -4.5006e+01, -3.5979e+01, -3.4485e+01, -3.3165e+01, -7.3719e+01,\n",
              "         -2.1937e+01, -6.5602e+01, -2.8020e+01, -8.3145e+01, -6.0694e+01,\n",
              "         -4.2056e+01, -4.0239e+01, -1.6712e+01, -7.4900e+01, -2.5327e+01,\n",
              "         -7.7729e+01, -4.9012e+01, -5.1184e+01, -4.6631e+01, -6.9091e+01,\n",
              "         -8.0718e+01, -6.2584e+01, -5.7229e+01, -5.7107e+01, -2.4704e+01,\n",
              "         -5.4125e+01, -4.8958e+01, -5.8022e+01, -5.8686e+01, -6.4848e+01,\n",
              "         -6.4438e+01, -7.3088e+01, -5.1094e+01, -5.8166e+01, -7.1748e+01,\n",
              "         -7.7591e+01, -5.6372e+01]], grad_fn=<LogSoftmaxBackward0>)"
            ]
          },
          "metadata": {},
          "execution_count": 29
        }
      ]
    },
    {
      "cell_type": "code",
      "source": [
        "import torch.optim as optim\n",
        "\n",
        "loss_function = nn.CrossEntropyLoss()\n",
        "optimizer = optim.Adam(net.parameters(), lr=0.001)"
      ],
      "metadata": {
        "id": "52MClrCZV7zN"
      },
      "execution_count": 30,
      "outputs": []
    },
    {
      "cell_type": "code",
      "source": [
        "for epoch in range(10): # 10 epoch\n",
        "    for data in train_loader:  # `data` is a batch of data\n",
        "        X, y = data  # X is the batch of features, y is the batch of targets.\n",
        "        net.zero_grad()  # before caculating the loss gradint are set zero\n",
        "        output = net(X.view(-1,28*28))  # view reshapes to match in put size\n",
        "        loss =F.nll_loss (output,y)  # the negative log likeihood loss is calculated bassed on the network output\n",
        "        loss.backward()  # gradients are computed by backpropagation the loss through the network prameter\n",
        "        optimizer.step()  #  update the network wight based on computed gradient\n",
        "    print(loss)  # print loss. We hope loss (a measure of wrong-ness) declines!"
      ],
      "metadata": {
        "colab": {
          "base_uri": "https://localhost:8080/"
        },
        "id": "QyJ-EzzkX0RZ",
        "outputId": "20ce7c1f-674d-48ff-e3d3-277b509f17fe"
      },
      "execution_count": 31,
      "outputs": [
        {
          "output_type": "stream",
          "name": "stdout",
          "text": [
            "tensor(2.9909, grad_fn=<NllLossBackward0>)\n",
            "tensor(0.3016, grad_fn=<NllLossBackward0>)\n",
            "tensor(5.9605e-07, grad_fn=<NllLossBackward0>)\n",
            "tensor(0.0047, grad_fn=<NllLossBackward0>)\n",
            "tensor(1.1921e-07, grad_fn=<NllLossBackward0>)\n",
            "tensor(2.3842e-07, grad_fn=<NllLossBackward0>)\n",
            "tensor(6.9616e-05, grad_fn=<NllLossBackward0>)\n",
            "tensor(0., grad_fn=<NllLossBackward0>)\n",
            "tensor(1.3113e-06, grad_fn=<NllLossBackward0>)\n",
            "tensor(0.0055, grad_fn=<NllLossBackward0>)\n"
          ]
        }
      ]
    },
    {
      "cell_type": "code",
      "source": [
        "correct = 0\n",
        "total = 0\n",
        "\n",
        "with torch.no_grad():\n",
        "    for data in test_loader:\n",
        "        X, y = data\n",
        "        output = net(X.view(-1,784))\n",
        "        #print(output)\n",
        "        for idx, i in enumerate(output):\n",
        "\n",
        "            if torch.argmax(i) == y[idx]:\n",
        "                correct += 1\n",
        "            total += 1\n",
        "\n",
        "m=round(correct/total, 3)\n",
        "print(\"Accuracy: \", m)"
      ],
      "metadata": {
        "id": "hFVt5xnKZWRe",
        "colab": {
          "base_uri": "https://localhost:8080/"
        },
        "outputId": "5306dbc1-ff34-45f6-f599-ac72599a2ddf"
      },
      "execution_count": 32,
      "outputs": [
        {
          "output_type": "stream",
          "name": "stdout",
          "text": [
            "Accuracy:  0.801\n"
          ]
        }
      ]
    },
    {
      "cell_type": "code",
      "source": [
        "import matplotlib.pyplot as plt   # i make code to store loss in list to print the plot display loss\n",
        "import torch\n",
        "import torch.nn.functional as F\n",
        "from torch.utils.data import DataLoader\n",
        "# Assuming your model, optimizer, and train_loader are defined\n",
        "\n",
        "losses = []  # List to store loss values for each epoch\n",
        "\n",
        "for epoch in range(10):\n",
        "    for data in train_loader:\n",
        "        X, y = data\n",
        "        net.zero_grad()\n",
        "        output = net(X.view(-1, 784))\n",
        "        loss = F.nll_loss(output, y)\n",
        "        loss.backward()\n",
        "        optimizer.step()\n",
        "\n",
        "    losses.append(loss.item())  # Append the loss value for the epoch\n",
        "\n"
      ],
      "metadata": {
        "id": "AXKzf17JvTgJ"
      },
      "execution_count": 33,
      "outputs": []
    },
    {
      "cell_type": "code",
      "source": [
        "plt.plot(losses)\n",
        "# to slove this problem remove  return F.log_softmax(x, dim=1) from build NN because the last layer cross entropy build soft max with it but no have time to run again"
      ],
      "metadata": {
        "id": "IAzikQg5xHtn",
        "colab": {
          "base_uri": "https://localhost:8080/",
          "height": 447
        },
        "outputId": "b49589ff-ca66-4817-fa56-cef62d73b994"
      },
      "execution_count": 34,
      "outputs": [
        {
          "output_type": "execute_result",
          "data": {
            "text/plain": [
              "[<matplotlib.lines.Line2D at 0x7851616e6710>]"
            ]
          },
          "metadata": {},
          "execution_count": 34
        },
        {
          "output_type": "display_data",
          "data": {
            "text/plain": [
              "<Figure size 640x480 with 1 Axes>"
            ],
            "image/png": "[encoded data removed]"
          },
          "metadata": {}
        }
      ]
    }
  ]
}